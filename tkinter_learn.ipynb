{
 "cells": [
  {
   "cell_type": "code",
   "execution_count": 1,
   "metadata": {},
   "outputs": [],
   "source": [
    "import tkinter as tk\n",
    "from tkinter import messagebox"
   ]
  },
  {
   "cell_type": "code",
   "execution_count": 3,
   "metadata": {},
   "outputs": [],
   "source": [
    "# hello tikinter\n",
    "# 创建窗口对象\n",
    "window = tk.Tk()\n",
    "\n",
    "# 创建标签组件\n",
    "label = tk.Label(window, text=\"Hello, Tkinter!\")\n",
    "label.pack()\n",
    "\n",
    "# 创建按钮组件\n",
    "button = tk.Button(window, text=\"Click me!\")\n",
    "button.pack()\n",
    "\n",
    "# 运行主循环\n",
    "window.mainloop()"
   ]
  },
  {
   "cell_type": "code",
   "execution_count": 4,
   "metadata": {},
   "outputs": [],
   "source": [
    "\n",
    "# grid布局管理器\n",
    "# 创建窗口对象\n",
    "window = tk.Tk()\n",
    "\n",
    "label = tk.Label(window, text=\"你好, Tkinter!\")\n",
    "label.grid(row=0, column=0)\n",
    "\n",
    "# 创建标签组件\n",
    "label = tk.Label(window, text=\"Hello, Tkinter!\")\n",
    "label.grid(row=1, column=0)\n",
    "\n",
    "# 创建按钮组件\n",
    "button = tk.Button(window, text=\"Click me!\")\n",
    "button.grid(row=2, column=0)\n",
    "\n",
    "# 运行主循环\n",
    "window.mainloop()\n"
   ]
  },
  {
   "cell_type": "code",
   "execution_count": 5,
   "metadata": {},
   "outputs": [],
   "source": [
    "\n",
    "# 回调函数\n",
    "def on_button_click():\n",
    "    messagebox.showinfo(\"Message\", \"Hello, Tkinter!\")\n",
    "\n",
    "# 创建窗口对象\n",
    "window = tk.Tk()\n",
    "\n",
    "# 创建按钮组件\n",
    "button = tk.Button(window, text=\"Click me!\", command=on_button_click)\n",
    "button.pack()\n",
    "\n",
    "# 运行主循环\n",
    "window.mainloop()\n"
   ]
  },
  {
   "cell_type": "code",
   "execution_count": 6,
   "metadata": {},
   "outputs": [
    {
     "name": "stdout",
     "output_type": "stream",
     "text": [
      "True False\n",
      "True True\n",
      "True False\n",
      "False False\n"
     ]
    }
   ],
   "source": [
    "\n",
    "def on_checkbutton_click():\n",
    "    print(var1.get(), var2.get())\n",
    "\n",
    "# 创建窗口对象\n",
    "window = tk.Tk()\n",
    "\n",
    "# 创建布尔变量\n",
    "var1 = tk.BooleanVar()\n",
    "var2 = tk.BooleanVar()\n",
    "\n",
    "# 创建复选按钮组件\n",
    "checkbutton1 = tk.Checkbutton(window, text=\"Option 1\", variable=var1, command=on_checkbutton_click)\n",
    "checkbutton1.pack()\n",
    "\n",
    "checkbutton2 = tk.Checkbutton(window, text=\"Option 2\", variable=var2, command=on_checkbutton_click)\n",
    "checkbutton2.pack()\n",
    "\n",
    "# 运行主循环\n",
    "window.mainloop()"
   ]
  },
  {
   "cell_type": "code",
   "execution_count": 7,
   "metadata": {},
   "outputs": [],
   "source": [
    "# 创建窗口对象\n",
    "window = tk.Tk()\n",
    "\n",
    "# 创建画布组件\n",
    "canvas = tk.Canvas(window, width=300, height=200)\n",
    "canvas.pack()\n",
    "\n",
    "# 绘制直线\n",
    "\"\"\"\n",
    "canvas.create_line(x1, y1, x2, y2, options)其中:\n",
    "\t(x1, y1)是线段的起点坐标\n",
    "\t(x2, y2)是线段的终点坐标\n",
    " \toptions是可选参数，用于设置线段的样式、颜色、宽度等属性。\n",
    "\"\"\"\n",
    "canvas.create_line(0, 0, 300, 200, fill=\"red\")\n",
    "\n",
    "# 绘制矩形\n",
    "canvas.create_rectangle(50, 50, 250, 150, fill=\"blue\")\n",
    "\n",
    "# 绘制文本\n",
    "canvas.create_text(150, 100, text=\"Hello, Tkinter!\", fill=\"white\")\n",
    "\n",
    "# 运行主循环\n",
    "window.mainloop()"
   ]
  },
  {
   "cell_type": "code",
   "execution_count": 10,
   "metadata": {},
   "outputs": [],
   "source": [
    "def on_entry_change(sv):\n",
    "    print(sv.get())\n",
    "\n",
    "# 创建窗口对象\n",
    "window = tk.Tk()\n",
    "\n",
    "# 创建字符串变量\n",
    "\"\"\"\n",
    ".trace()是Tkinter库中StringVar、IntVar等变量类的一个方法，用于追踪这些变量的值变化。它接受以下参数：\n",
    "    \"w\"：表示监听写操作（当变量值被修改时）。\n",
    "    lambda name, index, mode, sv=sv: on_entry_change(sv)：这是一个匿名函数，作为回调函数在变量值变化时执行。其中：\n",
    "    name：发生变化的变量名。\n",
    "    index：如果变量是一个列表类型的变量，则表示列表中发生变化的元素索引；对于普通变量，通常为None。\n",
    "    mode：触发事件的类型，此处为 'w'，表示写入模式。\n",
    "    sv=sv：通过默认参数传递外部作用域中的sv变量给回调函数内部。\n",
    "所以，这个.trace()调用的功能可以总结为：每当sv变量的值发生改变时，都会调用on_entry_change(sv)函数来处理这一变化事件。\n",
    "\"\"\"\n",
    "sv = tk.StringVar()\n",
    "sv.trace(\"w\", lambda name, index, mode, sv=sv: on_entry_change(sv))\n",
    "\n",
    "# 创建条目组件\n",
    "\"\"\"\n",
    "tk.Entry(window, textvariable=sv)是Tkinter库中创建一个输入框（文本框）的语句，它有以下功能：\n",
    "    window：这是Entry widget所属的父窗口或框架。\n",
    "    textvariable=sv：\n",
    "        指定该输入框与之前定义的StringVar()变量sv关联。\n",
    "        这意味着输入框中的文本内容会自动绑定到sv变量上，\n",
    "        任何在输入框中进行的文本输入或修改都会实时反映到sv变量的值中。\n",
    "因此，当用户在该输入框中输入文本时，由于sv绑定了.trace(\"w\", ...)事件监听器，所以输入框内容的变化也会触发on_entry_change(sv)函数的执行。\n",
    "\"\"\"\n",
    "entry = tk.Entry(window, textvariable=sv)\n",
    "entry.pack()\n",
    "\n",
    "# 运行主循环\n",
    "window.mainloop()"
   ]
  },
  {
   "cell_type": "code",
   "execution_count": 3,
   "metadata": {},
   "outputs": [],
   "source": [
    "# 创建窗口对象\n",
    "window = tk.Tk()\n",
    "\n",
    "# 创建框架1\n",
    "frame1 = tk.Frame(window, bg=\"red\", width=200, height=100)\n",
    "frame1.pack(fill=\"both\", expand=True)\n",
    "\n",
    "# 在框架1中添加标签\n",
    "label = tk.Label(frame1, text=\"Hello, Tkinter!\")\n",
    "label.pack()\n",
    "\n",
    "# 创建框架2\n",
    "frame2 = tk.Frame(window, bg=\"blue\", width=200, height=100)\n",
    "frame2.pack(fill=\"both\", expand=True)\n",
    "\n",
    "# 在框架2中添加按钮\n",
    "button = tk.Button(frame2, text=\"Click me!\")\n",
    "button.pack()\n",
    "\n",
    "# 运行主循环\n",
    "window.mainloop()"
   ]
  }
 ],
 "metadata": {
  "kernelspec": {
   "display_name": "Python 3",
   "language": "python",
   "name": "python3"
  },
  "language_info": {
   "codemirror_mode": {
    "name": "ipython",
    "version": 3
   },
   "file_extension": ".py",
   "mimetype": "text/x-python",
   "name": "python",
   "nbconvert_exporter": "python",
   "pygments_lexer": "ipython3",
   "version": "3.12.2"
  }
 },
 "nbformat": 4,
 "nbformat_minor": 2
}
